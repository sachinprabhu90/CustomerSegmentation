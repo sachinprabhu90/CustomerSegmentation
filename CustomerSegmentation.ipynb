{
 "cells": [
  {
   "cell_type": "code",
   "execution_count": 1,
   "metadata": {},
   "outputs": [],
   "source": [
    "import pandas as pd\n",
    "import numpy as np\n",
    "import matplotlib.pyplot as plt\n",
    "from statsmodels.formula.api import ols\n",
    "import statsmodels.api as sm\n",
    "import seaborn as sns\n",
    "%matplotlib inline\n",
    "\n",
    "file = pd.ExcelFile('C:\\\\Users\\\\sachin\\\\Desktop\\\\DataQuest\\\\My Projects\\\\Siddesh Assignment\\\\Analytical Interview DATASET.xlsx')\n",
    "profile = pd.read_excel(file,'Customer Profile Data (DS#1)')\n",
    "past_purchase = pd.read_excel(file,'Past Purchase Data (Ds#2)')\n",
    "camp_coverage = pd.read_excel(file,'Campaign Coverage Data (DS#3)')\n",
    "monthly_data = pd.read_excel(file,'Month Level Customer Data (DS#4')\n",
    "socio_economic = pd.read_excel(file,'Socio Economic Data (DS#5)')"
   ]
  },
  {
   "cell_type": "code",
   "execution_count": 2,
   "metadata": {},
   "outputs": [],
   "source": [
    "from collections import Counter\n",
    "\n",
    "transact_dict = dict(Counter(monthly_data['Customer_ID']))"
   ]
  },
  {
   "cell_type": "code",
   "execution_count": 3,
   "metadata": {},
   "outputs": [],
   "source": [
    "#Code is slow and needs to replaced by a faster alternative\n",
    "#updates number of rows with same ID to transactions\n",
    "for key,value in transact_dict.items():\n",
    "    for id in monthly_data['Customer_ID']:\n",
    "        if id==key:\n",
    "            monthly_data['transactions'] = value\n",
    "            \n",
    "monthly_data = monthly_data.groupby('Customer_ID').mean()"
   ]
  },
  {
   "cell_type": "code",
   "execution_count": 4,
   "metadata": {},
   "outputs": [],
   "source": [
    "master = (profile.join(past_purchase,on = 'Customer_ID', how='left',lsuffix='_left')\n",
    "                 .join(camp_coverage,on='Customer_ID',how='left',lsuffix='_left')\n",
    "                 .join(monthly_data,on='Customer_ID',how='left',lsuffix='_left')\n",
    "                 .join(socio_economic,on='Customer_ID',how='left',lsuffix='_left'))"
   ]
  },
  {
   "cell_type": "code",
   "execution_count": 5,
   "metadata": {},
   "outputs": [],
   "source": [
    "master['avg_sales'] = master['Revenue']/master['transactions']\n",
    "\n"
   ]
  },
  {
   "cell_type": "code",
   "execution_count": 6,
   "metadata": {},
   "outputs": [],
   "source": [
    "master = master.drop({'Customer_ID','Customer_ID_left'}, axis=1)\n",
    "master = master.dropna()"
   ]
  },
  {
   "cell_type": "code",
   "execution_count": 7,
   "metadata": {},
   "outputs": [],
   "source": [
    "cat = [col for col in master.columns if master.dtypes[col] == 'object']\n",
    "num = [col for col in master.columns if master.dtypes[col] != 'object']"
   ]
  },
  {
   "cell_type": "code",
   "execution_count": 8,
   "metadata": {},
   "outputs": [
    {
     "name": "stdout",
     "output_type": "stream",
     "text": [
      "<class 'pandas.core.frame.DataFrame'>\n",
      "Int64Index: 3974 entries, 0 to 5144\n",
      "Data columns (total 42 columns):\n",
      "age                                 3974 non-null int64\n",
      "job                                 3974 non-null category\n",
      "marital_status                      3974 non-null category\n",
      "education                           3974 non-null category\n",
      "Previous_Default_Flag               3974 non-null category\n",
      "House_Owned_Flag                    3974 non-null category\n",
      "Loan_Availed_Flag                   3974 non-null category\n",
      "Income_USD                          3974 non-null int64\n",
      "Credit_rating                       3974 non-null category\n",
      "Life_Stage_Code                     3974 non-null category\n",
      "Ethnicity                           3974 non-null category\n",
      "Employment                          3974 non-null category\n",
      "Count_of_Transactions               3974 non-null int64\n",
      "Loyalty_Tier                        3974 non-null category\n",
      "Avg_Basket_Size                     3974 non-null float64\n",
      "Reward_Points_Earned                3974 non-null int64\n",
      "Mode_of_contact                     3974 non-null category\n",
      "month_last_contacted_left           3974 non-null category\n",
      "day_of_week_last_contacted          3974 non-null category\n",
      "duration_last_contact               3974 non-null float64\n",
      "num_of_contact_campaign             3974 non-null float64\n",
      "days_elapsed_last_contact           3974 non-null float64\n",
      "num_contact_before_campaigning      3974 non-null float64\n",
      "outcome_last_campaign               3974 non-null category\n",
      "buy_decision_flag                   3974 non-null category\n",
      "Campaign_Start_Date                 3974 non-null category\n",
      "Duration_of_last_contact_type       3974 non-null category\n",
      "Num_of_contact_campaign_type        3974 non-null category\n",
      "Num_contact_before_campaign_type    3974 non-null category\n",
      "Target_buy                          3974 non-null float64\n",
      "Revenue                             3974 non-null float64\n",
      "Cost                                3974 non-null float64\n",
      "Net_Profit                          3974 non-null float64\n",
      "Net_Margin                          3974 non-null float64\n",
      "transactions                        3974 non-null float64\n",
      "month_last_contacted                3974 non-null category\n",
      "Qtrly_Emp_variation_rate            3974 non-null float64\n",
      " Monthly_consumer_price_idx         3974 non-null float64\n",
      "Monthly_consumer_conf_idx           3974 non-null float64\n",
      "US_FED_3mnth_rate                   3974 non-null float64\n",
      "Quarterly_num_of_emp                3974 non-null float64\n",
      "avg_sales                           3974 non-null float64\n",
      "dtypes: category(21), float64(17), int64(4)\n",
      "memory usage: 768.5 KB\n"
     ]
    }
   ],
   "source": [
    "master[cat] = master[cat].apply(lambda x: x.astype('category'),axis=0)\n",
    "master['buy_decision_flag'] = master['buy_decision_flag'].astype('category')\n",
    "master.info()"
   ]
  },
  {
   "cell_type": "code",
   "execution_count": 9,
   "metadata": {},
   "outputs": [],
   "source": [
    "y = master['buy_decision_flag']\n",
    "x = master.loc[:, master.columns!= 'buy_decision_flag']"
   ]
  },
  {
   "cell_type": "code",
   "execution_count": 10,
   "metadata": {},
   "outputs": [
    {
     "name": "stdout",
     "output_type": "stream",
     "text": [
      "p_val of Chi sqare test for job : 0.3715232221701297 \n",
      "p_val of Chi sqare test for marital_status : 0.1475986935443773 \n",
      "p_val of Chi sqare test for education : 0.9567460167747472 \n",
      "p_val of Chi sqare test for Previous_Default_Flag : 0.22892983406098488 \n",
      "p_val of Chi sqare test for House_Owned_Flag : 0.07733887027123489 \n",
      "p_val of Chi sqare test for Loan_Availed_Flag : 0.15862692265908937 \n",
      "p_val of Chi sqare test for Credit_rating : 0.8681164065839938 \n",
      "p_val of Chi sqare test for Life_Stage_Code : 0.6821809228703191 \n",
      "p_val of Chi sqare test for Ethnicity : 0.03540753274589701 \n",
      "p_val of Chi sqare test for Employment : 0.4203885407109419 \n",
      "p_val of Chi sqare test for Loyalty_Tier : 0.24686579082299845 \n",
      "p_val of Chi sqare test for Mode_of_contact : 5.271215151240869e-26 \n",
      "p_val of Chi sqare test for month_last_contacted_left : 9.595077392036167e-70 \n",
      "p_val of Chi sqare test for day_of_week_last_contacted : 0.19484280782732458 \n",
      "p_val of Chi sqare test for outcome_last_campaign : 2.2375716421184382e-89 \n",
      "p_val of Chi sqare test for buy_decision_flag : 0.0 \n",
      "p_val of Chi sqare test for Campaign_Start_Date : 1.0 \n",
      "p_val of Chi sqare test for Duration_of_last_contact_type : 3.5787691023309106e-109 \n",
      "p_val of Chi sqare test for Num_of_contact_campaign_type : 6.452171692214008e-05 \n",
      "p_val of Chi sqare test for Num_contact_before_campaign_type : 4.055682801292394e-16 \n",
      "p_val of Chi sqare test for month_last_contacted : 0.9965559266152096 \n"
     ]
    }
   ],
   "source": [
    "from scipy import stats\n",
    "from scipy.stats import chi2_contingency\n",
    "def crosstab(b):\n",
    "    chi2_stat, p_val, dof, ex = stats.chi2_contingency(pd.crosstab(master.buy_decision_flag,master[b]))\n",
    "\n",
    "    print('p_val of Chi sqare test for {} : {} '.format( b, p_val))\n",
    "\n",
    "chi_new = [crosstab(cat[i]) for i in range(len(cat))]"
   ]
  },
  {
   "cell_type": "code",
   "execution_count": 11,
   "metadata": {},
   "outputs": [],
   "source": [
    "del x['Previous_Default_Flag']\n",
    "del x['House_Owned_Flag']\n",
    "del x['Loan_Availed_Flag']\n",
    "del x['Ethnicity']\n",
    "del x['Loyalty_Tier']\n",
    "del x['Mode_of_contact']\n",
    "del x['month_last_contacted_left']\n",
    "del x['day_of_week_last_contacted']\n",
    "del x['outcome_last_campaign']\n",
    "del x['Duration_of_last_contact_type']\n",
    "del x['Num_of_contact_campaign_type']\n",
    "del x['Num_contact_before_campaign_type']\n",
    "del x['month_last_contacted']\n",
    "del x['marital_status']"
   ]
  },
  {
   "cell_type": "code",
   "execution_count": 12,
   "metadata": {},
   "outputs": [],
   "source": [
    "x = pd.get_dummies(x, drop_first=True)"
   ]
  },
  {
   "cell_type": "code",
   "execution_count": 13,
   "metadata": {},
   "outputs": [
    {
     "name": "stdout",
     "output_type": "stream",
     "text": [
      "Train set: (3179, 48) (3179,)\n",
      "Test set: (795, 48) (795,)\n"
     ]
    }
   ],
   "source": [
    "from sklearn.model_selection import train_test_split\n",
    "X_train, X_test, y_train, y_test = train_test_split( x, y, test_size=0.2, random_state=4)\n",
    "print ('Train set:', X_train.shape,  y_train.shape)\n",
    "print ('Test set:', X_test.shape,  y_test.shape)"
   ]
  },
  {
   "cell_type": "code",
   "execution_count": 14,
   "metadata": {},
   "outputs": [
    {
     "data": {
      "text/plain": [
       "KNeighborsClassifier(algorithm='auto', leaf_size=30, metric='minkowski',\n",
       "           metric_params=None, n_jobs=1, n_neighbors=6, p=2,\n",
       "           weights='uniform')"
      ]
     },
     "execution_count": 14,
     "metadata": {},
     "output_type": "execute_result"
    }
   ],
   "source": [
    "from sklearn.neighbors import KNeighborsClassifier\n",
    "k = 6\n",
    "#Train Model and Predict  \n",
    "neigh = KNeighborsClassifier(n_neighbors = k).fit(X_train,y_train)\n",
    "neigh"
   ]
  },
  {
   "cell_type": "code",
   "execution_count": 15,
   "metadata": {},
   "outputs": [
    {
     "data": {
      "text/plain": [
       "array(['no', 'no', 'no', 'no', 'no'], dtype=object)"
      ]
     },
     "execution_count": 15,
     "metadata": {},
     "output_type": "execute_result"
    }
   ],
   "source": [
    "yhat = neigh.predict(X_test)\n",
    "yhat[0:5]"
   ]
  },
  {
   "cell_type": "code",
   "execution_count": 16,
   "metadata": {},
   "outputs": [
    {
     "name": "stdout",
     "output_type": "stream",
     "text": [
      "Test set Accuracy: 0.87 \n"
     ]
    }
   ],
   "source": [
    "from sklearn import metrics\n",
    "print(\"Test set Accuracy: %.2f \" %metrics.accuracy_score(y_test, yhat))"
   ]
  },
  {
   "cell_type": "markdown",
   "metadata": {},
   "source": [
    "## K Nearest Neighbour algorithm prodces results with 87% accuracy"
   ]
  },
  {
   "cell_type": "code",
   "execution_count": 18,
   "metadata": {},
   "outputs": [
    {
     "data": {
      "text/plain": [
       "array([[ 4.31476707, -1.50068291, -1.3629094 ,  0.55518616,  0.04898778,\n",
       "         0.44443037, -0.57746219,  0.20145937, -0.3458501 , -0.361363  ,\n",
       "         0.01554513,  0.0716688 , -0.17048513, -0.042564  ,  0.        ,\n",
       "         0.8364494 ,  0.60246928, -0.47831187,  0.76968704,  0.84271842,\n",
       "         0.01554513, -0.48271391, -0.19109   , -0.16473857, -0.2699892 ,\n",
       "         5.03168767, -0.1896707 , -0.33361286, -0.16793395, -0.45717083,\n",
       "        -0.17871697, -0.22159068, -0.4003648 , -0.61205462, -0.02243936,\n",
       "        -0.38800784, -0.69685542, -0.67899147, -0.50714602, -0.21907939,\n",
       "         1.81554846, -0.02243936, -0.69406776, -0.83130249,  6.76409204,\n",
       "         5.04909233, -0.27425618, -0.24842544],\n",
       "       [ 1.03503949, -1.09326908, -1.40803163,  1.4581357 , -0.11730572,\n",
       "         0.95908308, -0.57746219,  0.20145937, -0.3458501 ,  2.7673005 ,\n",
       "        -0.74131595, -0.76436462, -0.66067752, -0.90393566,  0.        ,\n",
       "        -0.11800597, -0.64293385, -0.32679588,  0.28386819,  0.39264742,\n",
       "        -0.74131595,  2.07162042, -0.19109   , -0.16473857, -0.2699892 ,\n",
       "        -0.19874048, -0.1896707 , -0.33361286, -0.16793395, -0.45717083,\n",
       "        -0.17871697, -0.22159068,  2.4977221 , -0.61205462, -0.02243936,\n",
       "        -0.38800784, -0.69685542,  1.47277256, -0.50714602, -0.21907939,\n",
       "        -0.55079775, -0.02243936, -0.69406776, -0.83130249, -0.1478395 ,\n",
       "        -0.1980554 , -0.27425618, -0.24842544],\n",
       "       [-1.21391657, -1.2136361 , -1.27266494, -0.09102057, -1.14756083,\n",
       "        -0.51023075, -0.57746219,  0.20145937, -0.3458501 , -0.361363  ,\n",
       "        -0.61013174, -0.60858293, -0.61174289, -0.96403135,  0.        ,\n",
       "         0.64555833,  0.73429468,  0.88533202,  0.70960956,  0.3257638 ,\n",
       "        -0.61013174, -0.48271391, -0.19109   , -0.16473857, -0.2699892 ,\n",
       "        -0.19874048, -0.1896707 , -0.33361286, -0.16793395,  2.18736613,\n",
       "        -0.17871697, -0.22159068, -0.4003648 , -0.61205462, -0.02243936,\n",
       "         2.57726749, -0.69685542, -0.67899147,  1.97181867, -0.21907939,\n",
       "        -0.55079775, -0.02243936, -0.69406776,  1.20293156, -0.1478395 ,\n",
       "        -0.1980554 , -0.27425618, -0.24842544],\n",
       "       [-0.27685155, -1.04480594, -1.45315386,  0.88668434, -0.066301  ,\n",
       "        -0.65559068, -0.57746219,  0.20145937, -0.3458501 , -0.361363  ,\n",
       "        -0.69065762, -0.70153509, -0.65063526, -0.98406325,  0.        ,\n",
       "         0.64555833,  0.73429468,  0.88533202,  0.70960956,  0.3257638 ,\n",
       "        -0.69065762, -0.48271391, -0.19109   , -0.16473857, -0.2699892 ,\n",
       "        -0.19874048, -0.1896707 , -0.33361286, -0.16793395, -0.45717083,\n",
       "        -0.17871697, -0.22159068, -0.4003648 , -0.61205462, -0.02243936,\n",
       "        -0.38800784,  1.4350179 , -0.67899147,  1.97181867, -0.21907939,\n",
       "        -0.55079775, -0.02243936,  1.44078152, -0.83130249, -0.1478395 ,\n",
       "        -0.1980554 , -0.27425618, -0.24842544],\n",
       "       [ 0.84762648, -1.22692925, -1.31778717, -0.29920025, -0.96369569,\n",
       "        -0.49844481, -0.22001129,  0.20145937, -0.3458501 , -0.361363  ,\n",
       "        -0.72128918, -0.75628784, -0.60117533, -0.42317008,  0.        ,\n",
       "         0.64555833,  0.73429468,  0.88533202,  0.70903189,  0.3257638 ,\n",
       "        -0.72128918, -0.48271391, -0.19109   , -0.16473857, -0.2699892 ,\n",
       "        -0.19874048, -0.1896707 , -0.33361286, -0.16793395,  2.18736613,\n",
       "        -0.17871697, -0.22159068, -0.4003648 , -0.61205462, -0.02243936,\n",
       "         2.57726749, -0.69685542, -0.67899147, -0.50714602, -0.21907939,\n",
       "         1.81554846, -0.02243936, -0.69406776, -0.83130249, -0.1478395 ,\n",
       "        -0.1980554 , -0.27425618, -0.24842544]])"
      ]
     },
     "execution_count": 18,
     "metadata": {},
     "output_type": "execute_result"
    }
   ],
   "source": [
    "from sklearn import preprocessing\n",
    "X = preprocessing.StandardScaler().fit(x).transform(x)\n",
    "X[0:5]"
   ]
  },
  {
   "cell_type": "code",
   "execution_count": 19,
   "metadata": {},
   "outputs": [
    {
     "name": "stdout",
     "output_type": "stream",
     "text": [
      "Train set: (3179, 48) (3179,)\n",
      "Test set: (795, 48) (795,)\n"
     ]
    }
   ],
   "source": [
    "from sklearn.model_selection import train_test_split\n",
    "X_train, X_test, y_train, y_test = train_test_split( X, y, test_size=0.2, random_state=4)\n",
    "print ('Train set:', X_train.shape,  y_train.shape)\n",
    "print ('Test set:', X_test.shape,  y_test.shape)"
   ]
  },
  {
   "cell_type": "code",
   "execution_count": 20,
   "metadata": {},
   "outputs": [
    {
     "data": {
      "text/plain": [
       "LogisticRegression(C=0.01, class_weight=None, dual=False, fit_intercept=True,\n",
       "          intercept_scaling=1, max_iter=100, multi_class='ovr', n_jobs=1,\n",
       "          penalty='l2', random_state=None, solver='liblinear', tol=0.0001,\n",
       "          verbose=0, warm_start=False)"
      ]
     },
     "execution_count": 20,
     "metadata": {},
     "output_type": "execute_result"
    }
   ],
   "source": [
    "from sklearn.linear_model import LogisticRegression\n",
    "from sklearn.metrics import confusion_matrix\n",
    "LR = LogisticRegression(C=0.01, solver='liblinear').fit(X_train,y_train)\n",
    "LR"
   ]
  },
  {
   "cell_type": "code",
   "execution_count": 22,
   "metadata": {},
   "outputs": [
    {
     "data": {
      "text/plain": [
       "array(['no', 'no', 'no', 'no', 'no'], dtype=object)"
      ]
     },
     "execution_count": 22,
     "metadata": {},
     "output_type": "execute_result"
    }
   ],
   "source": [
    "yhat = LR.predict(X_test)\n",
    "yhat[:5]"
   ]
  },
  {
   "cell_type": "code",
   "execution_count": 23,
   "metadata": {},
   "outputs": [
    {
     "data": {
      "text/plain": [
       "array([[0.92973925, 0.07026075],\n",
       "       [0.93270198, 0.06729802],\n",
       "       [0.89625956, 0.10374044],\n",
       "       ...,\n",
       "       [0.9214135 , 0.0785865 ],\n",
       "       [0.93180127, 0.06819873],\n",
       "       [0.92793757, 0.07206243]])"
      ]
     },
     "execution_count": 23,
     "metadata": {},
     "output_type": "execute_result"
    }
   ],
   "source": [
    "yhat_prob = LR.predict_proba(X_test)\n",
    "yhat_prob"
   ]
  },
  {
   "cell_type": "code",
   "execution_count": 24,
   "metadata": {},
   "outputs": [
    {
     "data": {
      "text/plain": [
       "0.9987421383647799"
      ]
     },
     "execution_count": 24,
     "metadata": {},
     "output_type": "execute_result"
    }
   ],
   "source": [
    "# Evaluation of model using Jaccard Index\n",
    "from sklearn.metrics import jaccard_similarity_score\n",
    "jaccard_similarity_score(y_test, yhat)\n"
   ]
  },
  {
   "cell_type": "code",
   "execution_count": 26,
   "metadata": {},
   "outputs": [
    {
     "name": "stdout",
     "output_type": "stream",
     "text": [
      "[[106   0]\n",
      " [  1 688]]\n"
     ]
    }
   ],
   "source": [
    "#Confusion Matrix\n",
    "from sklearn.metrics import classification_report, confusion_matrix\n",
    "import itertools\n",
    "def plot_confusion_matrix(cm, classes,\n",
    "                          normalize=False,\n",
    "                          title='Confusion matrix',\n",
    "                          cmap=plt.cm.Blues):\n",
    "    \"\"\"\n",
    "    This function prints and plots the confusion matrix.\n",
    "    Normalization can be applied by setting `normalize=True`.\n",
    "    \"\"\"\n",
    "    if normalize:\n",
    "        cm = cm.astype('float') / cm.sum(axis=1)[:, np.newaxis]\n",
    "        print(\"Normalized confusion matrix\")\n",
    "    else:\n",
    "        print('Confusion matrix, without normalization')\n",
    "\n",
    "    print(cm)\n",
    "\n",
    "    plt.imshow(cm, interpolation='nearest', cmap=cmap)\n",
    "    plt.title(title)\n",
    "    plt.colorbar()\n",
    "    tick_marks = np.arange(len(classes))\n",
    "    plt.xticks(tick_marks, classes, rotation=45)\n",
    "    plt.yticks(tick_marks, classes)\n",
    "\n",
    "    fmt = '.2f' if normalize else 'd'\n",
    "    thresh = cm.max() / 2.\n",
    "    for i, j in itertools.product(range(cm.shape[0]), range(cm.shape[1])):\n",
    "        plt.text(j, i, format(cm[i, j], fmt),\n",
    "                 horizontalalignment=\"center\",\n",
    "                 color=\"white\" if cm[i, j] > thresh else \"black\")\n",
    "\n",
    "    plt.tight_layout()\n",
    "    plt.ylabel('True label')\n",
    "    plt.xlabel('Predicted label')\n",
    "print(confusion_matrix(y_test, yhat, labels=['yes','no']))"
   ]
  },
  {
   "cell_type": "code",
   "execution_count": 29,
   "metadata": {},
   "outputs": [
    {
     "name": "stdout",
     "output_type": "stream",
     "text": [
      "Confusion matrix, without normalization\n",
      "[[106   0]\n",
      " [  1 688]]\n"
     ]
    },
    {
     "data": {
      "image/png": "[encoded data removed]",
      "text/plain": [
       "<Figure size 432x288 with 2 Axes>"
      ]
     },
     "metadata": {},
     "output_type": "display_data"
    }
   ],
   "source": [
    "# Compute confusion matrix\n",
    "cnf_matrix = confusion_matrix(y_test, yhat, labels=['yes','no'])\n",
    "np.set_printoptions(precision=2)\n",
    "\n",
    "\n",
    "# Plot non-normalized confusion matrix\n",
    "plt.figure()\n",
    "plot_confusion_matrix(cnf_matrix, classes=['yes','no'],normalize= False,  title='Confusion matrix')"
   ]
  },
  {
   "cell_type": "code",
   "execution_count": null,
   "metadata": {},
   "outputs": [],
   "source": []
  }
 ],
 "metadata": {
  "kernelspec": {
   "display_name": "Python 3",
   "language": "python",
   "name": "python3"
  },
  "language_info": {
   "codemirror_mode": {
    "name": "ipython",
    "version": 3
   },
   "file_extension": ".py",
   "mimetype": "text/x-python",
   "name": "python",
   "nbconvert_exporter": "python",
   "pygments_lexer": "ipython3",
   "version": "3.6.6"
  }
 },
 "nbformat": 4,
 "nbformat_minor": 2
}
